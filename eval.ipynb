{
 "cells": [
  {
   "cell_type": "code",
   "execution_count": 1,
   "id": "f73abae5-7b1e-4f56-9666-849b9803e9ca",
   "metadata": {},
   "outputs": [
    {
     "name": "stdout",
     "output_type": "stream",
     "text": [
      "<module 'torch.version' from '/home/usr/miniforge3/lib/python3.12/site-packages/torch/version.py'> 12.4\n"
     ]
    }
   ],
   "source": [
    "import torch\n",
    "assert torch.cuda.is_available()\n",
    "print(torch.version, torch.version.cuda)"
   ]
  },
  {
   "cell_type": "code",
   "execution_count": 2,
   "id": "a1eff035-55b2-4655-976d-d0bed95d8d51",
   "metadata": {},
   "outputs": [
    {
     "ename": "RuntimeError",
     "evalue": "Detected that PyTorch and TorchAudio were compiled with different CUDA versions. PyTorch has CUDA version 12.4 whereas TorchAudio has CUDA version 12.1. Please install the TorchAudio version that matches your PyTorch version.",
     "output_type": "error",
     "traceback": [
      "\u001b[0;31m---------------------------------------------------------------------------\u001b[0m",
      "\u001b[0;31mRuntimeError\u001b[0m                              Traceback (most recent call last)",
      "Cell \u001b[0;32mIn[2], line 8\u001b[0m\n\u001b[1;32m      5\u001b[0m \u001b[38;5;28;01mimport\u001b[39;00m \u001b[38;5;21;01mmatplotlib\u001b[39;00m\u001b[38;5;21;01m.\u001b[39;00m\u001b[38;5;21;01mpyplot\u001b[39;00m \u001b[38;5;28;01mas\u001b[39;00m \u001b[38;5;21;01mplt\u001b[39;00m\n\u001b[1;32m      6\u001b[0m \u001b[38;5;28;01mfrom\u001b[39;00m \u001b[38;5;21;01mtqdm\u001b[39;00m\u001b[38;5;21;01m.\u001b[39;00m\u001b[38;5;21;01mnotebook\u001b[39;00m \u001b[38;5;28;01mimport\u001b[39;00m tqdm\n\u001b[0;32m----> 8\u001b[0m \u001b[38;5;28;01mfrom\u001b[39;00m \u001b[38;5;21;01mutils\u001b[39;00m\u001b[38;5;21;01m.\u001b[39;00m\u001b[38;5;21;01mSoundDataset\u001b[39;00m \u001b[38;5;28;01mimport\u001b[39;00m SoundDataset\n\u001b[1;32m      9\u001b[0m \u001b[38;5;28;01mfrom\u001b[39;00m \u001b[38;5;21;01mtorch\u001b[39;00m\u001b[38;5;21;01m.\u001b[39;00m\u001b[38;5;21;01mutils\u001b[39;00m\u001b[38;5;21;01m.\u001b[39;00m\u001b[38;5;21;01mdata\u001b[39;00m \u001b[38;5;28;01mimport\u001b[39;00m DataLoader\n",
      "File \u001b[0;32m~/Documents/GitHub/sound2image/utils/SoundDataset.py:4\u001b[0m\n\u001b[1;32m      2\u001b[0m \u001b[38;5;28;01mimport\u001b[39;00m \u001b[38;5;21;01mglob\u001b[39;00m\n\u001b[1;32m      3\u001b[0m \u001b[38;5;28;01mfrom\u001b[39;00m \u001b[38;5;21;01mtorchvision\u001b[39;00m\u001b[38;5;21;01m.\u001b[39;00m\u001b[38;5;21;01mio\u001b[39;00m \u001b[38;5;28;01mimport\u001b[39;00m read_image\n\u001b[0;32m----> 4\u001b[0m \u001b[38;5;28;01mimport\u001b[39;00m \u001b[38;5;21;01mtorchaudio\u001b[39;00m\n\u001b[1;32m      5\u001b[0m \u001b[38;5;28;01mimport\u001b[39;00m \u001b[38;5;21;01mtorch\u001b[39;00m\n\u001b[1;32m      7\u001b[0m \u001b[38;5;28;01mclass\u001b[39;00m \u001b[38;5;21;01mSoundDataset\u001b[39;00m(Dataset):\n",
      "File \u001b[0;32m~/miniforge3/lib/python3.12/site-packages/torchaudio/__init__.py:2\u001b[0m\n\u001b[1;32m      1\u001b[0m \u001b[38;5;66;03m# Initialize extension and backend first\u001b[39;00m\n\u001b[0;32m----> 2\u001b[0m \u001b[38;5;28;01mfrom\u001b[39;00m \u001b[38;5;21;01m.\u001b[39;00m \u001b[38;5;28;01mimport\u001b[39;00m _extension  \u001b[38;5;66;03m# noqa  # usort: skip\u001b[39;00m\n\u001b[1;32m      3\u001b[0m \u001b[38;5;28;01mfrom\u001b[39;00m \u001b[38;5;21;01m.\u001b[39;00m\u001b[38;5;21;01m_backend\u001b[39;00m \u001b[38;5;28;01mimport\u001b[39;00m (  \u001b[38;5;66;03m# noqa  # usort: skip\u001b[39;00m\n\u001b[1;32m      4\u001b[0m     AudioMetaData,\n\u001b[1;32m      5\u001b[0m     get_audio_backend,\n\u001b[0;32m   (...)\u001b[0m\n\u001b[1;32m     10\u001b[0m     set_audio_backend,\n\u001b[1;32m     11\u001b[0m )\n\u001b[1;32m     13\u001b[0m \u001b[38;5;28;01mfrom\u001b[39;00m \u001b[38;5;21;01m.\u001b[39;00m \u001b[38;5;28;01mimport\u001b[39;00m (  \u001b[38;5;66;03m# noqa: F401\u001b[39;00m\n\u001b[1;32m     14\u001b[0m     compliance,\n\u001b[1;32m     15\u001b[0m     datasets,\n\u001b[0;32m   (...)\u001b[0m\n\u001b[1;32m     23\u001b[0m     utils,\n\u001b[1;32m     24\u001b[0m )\n",
      "File \u001b[0;32m~/miniforge3/lib/python3.12/site-packages/torchaudio/_extension/__init__.py:42\u001b[0m\n\u001b[1;32m     38\u001b[0m _load_lib(\u001b[38;5;124m\"\u001b[39m\u001b[38;5;124mlibtorchaudio\u001b[39m\u001b[38;5;124m\"\u001b[39m)\n\u001b[1;32m     40\u001b[0m \u001b[38;5;28;01mimport\u001b[39;00m \u001b[38;5;21;01mtorchaudio\u001b[39;00m\u001b[38;5;21;01m.\u001b[39;00m\u001b[38;5;21;01mlib\u001b[39;00m\u001b[38;5;21;01m.\u001b[39;00m\u001b[38;5;21;01m_torchaudio\u001b[39;00m  \u001b[38;5;66;03m# noqa\u001b[39;00m\n\u001b[0;32m---> 42\u001b[0m \u001b[43m_check_cuda_version\u001b[49m\u001b[43m(\u001b[49m\u001b[43m)\u001b[49m\n\u001b[1;32m     43\u001b[0m _IS_RIR_AVAILABLE \u001b[38;5;241m=\u001b[39m torchaudio\u001b[38;5;241m.\u001b[39mlib\u001b[38;5;241m.\u001b[39m_torchaudio\u001b[38;5;241m.\u001b[39mis_rir_available()\n\u001b[1;32m     44\u001b[0m _IS_ALIGN_AVAILABLE \u001b[38;5;241m=\u001b[39m torchaudio\u001b[38;5;241m.\u001b[39mlib\u001b[38;5;241m.\u001b[39m_torchaudio\u001b[38;5;241m.\u001b[39mis_align_available()\n",
      "File \u001b[0;32m~/miniforge3/lib/python3.12/site-packages/torchaudio/_extension/utils.py:175\u001b[0m, in \u001b[0;36m_check_cuda_version\u001b[0;34m()\u001b[0m\n\u001b[1;32m    173\u001b[0m     t_version \u001b[38;5;241m=\u001b[39m \u001b[38;5;124mf\u001b[39m\u001b[38;5;124m\"\u001b[39m\u001b[38;5;132;01m{\u001b[39;00mt_version[\u001b[38;5;241m0\u001b[39m]\u001b[38;5;132;01m}\u001b[39;00m\u001b[38;5;124m.\u001b[39m\u001b[38;5;132;01m{\u001b[39;00mt_version[\u001b[38;5;241m1\u001b[39m]\u001b[38;5;132;01m}\u001b[39;00m\u001b[38;5;124m\"\u001b[39m\n\u001b[1;32m    174\u001b[0m     \u001b[38;5;28;01mif\u001b[39;00m ta_version \u001b[38;5;241m!=\u001b[39m t_version:\n\u001b[0;32m--> 175\u001b[0m         \u001b[38;5;28;01mraise\u001b[39;00m \u001b[38;5;167;01mRuntimeError\u001b[39;00m(\n\u001b[1;32m    176\u001b[0m             \u001b[38;5;124m\"\u001b[39m\u001b[38;5;124mDetected that PyTorch and TorchAudio were compiled with different CUDA versions. \u001b[39m\u001b[38;5;124m\"\u001b[39m\n\u001b[1;32m    177\u001b[0m             \u001b[38;5;124mf\u001b[39m\u001b[38;5;124m\"\u001b[39m\u001b[38;5;124mPyTorch has CUDA version \u001b[39m\u001b[38;5;132;01m{\u001b[39;00mt_version\u001b[38;5;132;01m}\u001b[39;00m\u001b[38;5;124m whereas TorchAudio has CUDA version \u001b[39m\u001b[38;5;132;01m{\u001b[39;00mta_version\u001b[38;5;132;01m}\u001b[39;00m\u001b[38;5;124m. \u001b[39m\u001b[38;5;124m\"\u001b[39m\n\u001b[1;32m    178\u001b[0m             \u001b[38;5;124m\"\u001b[39m\u001b[38;5;124mPlease install the TorchAudio version that matches your PyTorch version.\u001b[39m\u001b[38;5;124m\"\u001b[39m\n\u001b[1;32m    179\u001b[0m         )\n\u001b[1;32m    180\u001b[0m \u001b[38;5;28;01mreturn\u001b[39;00m version\n",
      "\u001b[0;31mRuntimeError\u001b[0m: Detected that PyTorch and TorchAudio were compiled with different CUDA versions. PyTorch has CUDA version 12.4 whereas TorchAudio has CUDA version 12.1. Please install the TorchAudio version that matches your PyTorch version."
     ]
    }
   ],
   "source": [
    "import torch\n",
    "from utils.config import ModelConfig\n",
    "from models.unet import UNetWithCrossAttention\n",
    "from models.diffusion import Diffusion\n",
    "import matplotlib.pyplot as plt\n",
    "from tqdm.notebook import tqdm\n",
    "\n",
    "from utils.SoundDataset import SoundDataset\n",
    "from torch.utils.data import DataLoader"
   ]
  },
  {
   "cell_type": "code",
   "execution_count": null,
   "id": "44f1b91c-832b-4741-865f-ee12f5fd9868",
   "metadata": {},
   "outputs": [],
   "source": [
    "def load_snapshot(snapshot_path, raw_model):\n",
    "    snapshot = torch.load(snapshot_path)\n",
    "    raw_model.load_state_dict(snapshot[\"MODEL_STATE\"])\n",
    "    train_losses = snapshot[\"TRAIN_LOSSES\"]\n",
    "    val_losses = snapshot[\"VAL_LOSSES\"]\n",
    "\n",
    "    return raw_model, train_losses, val_losses"
   ]
  },
  {
   "cell_type": "code",
   "execution_count": null,
   "id": "bdd384aa-9b58-4b3b-83d1-6b4938e28fdc",
   "metadata": {},
   "outputs": [],
   "source": [
    "image_path = \"data/images\"\n",
    "sound_path = \"data/sounds\"\n",
    "\n",
    "data = SoundDataset(image_path, sound_path)\n",
    "\n",
    "val_loader = DataLoader(data, \n",
    "                        batch_size=8,\n",
    "                        pin_memory=True,\n",
    "                        shuffle=False, \n",
    "                        drop_last=True)"
   ]
  },
  {
   "cell_type": "code",
   "execution_count": null,
   "id": "64e53886-aefe-4cf6-a3b0-1fc8cd23265d",
   "metadata": {},
   "outputs": [],
   "source": [
    "# from archisound import ArchiSound\n",
    "\n",
    "device = \"cuda\" if torch.cuda.is_available() else \"cpu\"\n",
    "\n",
    "# autoencoder = ArchiSound.from_pretrained(\"dmae1d-ATC64-v2\").to(device)\n",
    "\n",
    "from models.AudioEncoder import AudioEncoder\n",
    "\n",
    "encode = AudioEncoder(\"facebook/wav2vec2-base-960h\",\n",
    "                                    device,\n",
    "                                    48000)"
   ]
  },
  {
   "cell_type": "code",
   "execution_count": null,
   "id": "70e610cf-669a-49a8-a08b-a5dd693a00fa",
   "metadata": {},
   "outputs": [],
   "source": [
    "config = ModelConfig({\"image_size\": 128, \"audio_ctx_dim\": 768})\n",
    "\n",
    "# Инициализация\n",
    "diffusion = Diffusion(timesteps=1000, image_size=128, device=device)\n",
    "model = UNetWithCrossAttention(config)"
   ]
  },
  {
   "cell_type": "code",
   "execution_count": null,
   "id": "7d1a09cd-2e94-463b-a1df-c398d8b9ddfb",
   "metadata": {},
   "outputs": [],
   "source": [
    "model, train_losses, val_losses = load_snapshot(\"result.pt\", model)"
   ]
  },
  {
   "cell_type": "code",
   "execution_count": null,
   "id": "ac9b98dc-488c-4a4a-b722-455a59960464",
   "metadata": {},
   "outputs": [],
   "source": [
    "plt.plot(train_losses[:], label='train')\n",
    "plt.plot(val_losses[:], label='val')\n",
    "plt.grid()\n",
    "plt.legend()"
   ]
  },
  {
   "cell_type": "code",
   "execution_count": null,
   "id": "ab0658f9-bfa5-4533-909b-aa4ca446c195",
   "metadata": {},
   "outputs": [],
   "source": [
    "val_losses[20:]"
   ]
  },
  {
   "cell_type": "code",
   "execution_count": null,
   "id": "17c23ee4-ed48-414a-a8dd-beff9eb2ebb7",
   "metadata": {},
   "outputs": [],
   "source": [
    "train_losses[20:]"
   ]
  },
  {
   "cell_type": "code",
   "execution_count": null,
   "id": "b2371229-fe62-44b7-832d-4bc963386b67",
   "metadata": {},
   "outputs": [],
   "source": [
    "audio,image = next(iter(val_loader))\n",
    "audio_embeds = encode(audio.to(device))\n",
    "\n",
    "model.to(device)\n",
    "model.eval()\n",
    "generated_image = diffusion.reverse_process(\n",
    "    model,\n",
    "    audio_embeds,\n",
    "    guidance_scale=7.5,\n",
    "    batch_size=8,\n",
    "    use_ddim=True,\n",
    "    timesteps=100  #число шагов\n",
    ")"
   ]
  },
  {
   "cell_type": "code",
   "execution_count": null,
   "id": "ed773916-b81b-4b27-a3ea-75920a889bea",
   "metadata": {},
   "outputs": [],
   "source": [
    "plt.imshow(torch.permute(generated_image[0].cpu(), (1,2,0)).numpy())"
   ]
  },
  {
   "cell_type": "code",
   "execution_count": null,
   "id": "4553c063-a95b-46f3-86c3-6a7eafe5e7b1",
   "metadata": {},
   "outputs": [],
   "source": [
    "plt.imshow(torch.permute(image[0], (1,2,0)))"
   ]
  },
  {
   "cell_type": "code",
   "execution_count": null,
   "id": "25f09777-0d5b-4f90-ac35-6697dcac6a15",
   "metadata": {},
   "outputs": [],
   "source": [
    "# модель сошлась на lr=0.0005 на 30 эпохах. Потери составили ~0.68\n",
    "# размерность UNet:\n",
    "# DownBlock(3, 32, 0.3),\n",
    "# DownBlock(32, 64, 0.3),\n",
    "# DownBlock(64, 128, 0.3),\n",
    "# DownBlock(128, 256, 0.3)\n",
    "\n",
    "# попробуем увеличить размер UNet"
   ]
  },
  {
   "cell_type": "code",
   "execution_count": null,
   "id": "be68c169-cbf3-435d-a749-584591da92c7",
   "metadata": {},
   "outputs": [],
   "source": []
  }
 ],
 "metadata": {
  "kernelspec": {
   "display_name": "Python 3 (ipykernel)",
   "language": "python",
   "name": "python3"
  },
  "language_info": {
   "codemirror_mode": {
    "name": "ipython",
    "version": 3
   },
   "file_extension": ".py",
   "mimetype": "text/x-python",
   "name": "python",
   "nbconvert_exporter": "python",
   "pygments_lexer": "ipython3",
   "version": "3.12.7"
  }
 },
 "nbformat": 4,
 "nbformat_minor": 5
}
