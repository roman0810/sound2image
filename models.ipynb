{
 "cells": [
  {
   "cell_type": "code",
   "execution_count": 5,
   "id": "64221488-ea02-4c78-a0f2-227b13860460",
   "metadata": {},
   "outputs": [],
   "source": [
    "import torch\n",
    "from models import unet"
   ]
  },
  {
   "cell_type": "code",
   "execution_count": 2,
   "id": "49f7e4b8-8159-447c-af73-05761f4ae503",
   "metadata": {},
   "outputs": [],
   "source": [
    "model = unet.Diffusion().cuda()\n",
    "\n",
    "optimizer = torch.optim.Adam(model.parameters(), lr=0.1)\n",
    "\n",
    "loss_fn = torch.nn.MSELoss()"
   ]
  },
  {
   "cell_type": "code",
   "execution_count": 3,
   "id": "0ebb711c-f11d-4fc7-93f3-fe95412a5162",
   "metadata": {},
   "outputs": [],
   "source": [
    "def get_time_embedding(timestep, dtype):\n",
    "    freqs = torch.pow(10000, -torch.arange(start=0, end=160, dtype=dtype) / 160)\n",
    "    x = torch.tensor([timestep], dtype=dtype)[:, None] * freqs[None]\n",
    "    return torch.cat([torch.cos(x), torch.sin(x)], dim=-1)"
   ]
  },
  {
   "cell_type": "code",
   "execution_count": 4,
   "id": "5c91d3ea-acf5-48c8-b156-a8eb7a463c26",
   "metadata": {},
   "outputs": [],
   "source": [
    "BS = 1\n",
    "image = torch.rand((BS, 3, 128, 128)).cuda()\n",
    "sound = torch.rand((BS, 499, 768)).cuda()\n",
    "time = get_time_embedding(0, torch.float).cuda()"
   ]
  },
  {
   "cell_type": "code",
   "execution_count": 5,
   "id": "02207cca-a2ae-4c71-82f3-cf36ffcf9eb8",
   "metadata": {},
   "outputs": [],
   "source": [
    "optimizer.zero_grad()\n",
    "loss = loss_fn(model(image, time), image)"
   ]
  },
  {
   "cell_type": "code",
   "execution_count": 6,
   "id": "2f1be17f-c7ff-43ba-871e-59ffeb651f2a",
   "metadata": {},
   "outputs": [],
   "source": [
    "loss.backward()\n",
    "optimizer.step()"
   ]
  },
  {
   "cell_type": "code",
   "execution_count": 7,
   "id": "ff194c23-bca2-4e47-8c5f-f638ca4601c2",
   "metadata": {},
   "outputs": [],
   "source": [
    "def get_time_embedding(timestep, dtype=torch.float):\n",
    "    assert len(timestep.shape) == 1, \"timestep должен быть одномерным тензором размером [batch_size]\"\n",
    "    \n",
    "    freqs = torch.pow(10000, -torch.arange(start=0, end=160, dtype=dtype) / 160)\n",
    "    x = timestep[:, None].to(dtype) * freqs[None, :]  # [batch_size, 1] * [1, 160] = [batch_size, 160]\n",
    "    return torch.cat([torch.cos(x), torch.sin(x)], dim=-1)  # [batch_size, 320]"
   ]
  },
  {
   "cell_type": "code",
   "execution_count": 8,
   "id": "8cf1b39e-4f65-4176-8c92-4553497c0d74",
   "metadata": {},
   "outputs": [
    {
     "data": {
      "text/plain": [
       "torch.Size([4, 320])"
      ]
     },
     "execution_count": 8,
     "metadata": {},
     "output_type": "execute_result"
    }
   ],
   "source": [
    "a = torch.tensor([1,2,3,4])\n",
    "\n",
    "get_time_embedding(a).shape"
   ]
  },
  {
   "cell_type": "code",
   "execution_count": null,
   "id": "4f624e03-4d73-4429-a35b-756a4209200a",
   "metadata": {},
   "outputs": [],
   "source": []
  }
 ],
 "metadata": {
  "kernelspec": {
   "display_name": "Python 3 (ipykernel)",
   "language": "python",
   "name": "python3"
  },
  "language_info": {
   "codemirror_mode": {
    "name": "ipython",
    "version": 3
   },
   "file_extension": ".py",
   "mimetype": "text/x-python",
   "name": "python",
   "nbconvert_exporter": "python",
   "pygments_lexer": "ipython3",
   "version": "3.12.3"
  }
 },
 "nbformat": 4,
 "nbformat_minor": 5
}
