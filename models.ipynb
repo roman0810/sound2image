{
 "cells": [
  {
   "cell_type": "code",
   "execution_count": 1,
   "id": "4b2b2550-b41e-4952-b575-83bc645fc9ef",
   "metadata": {},
   "outputs": [],
   "source": [
    "import torch\n",
    "from utils.config import ModelConfig\n",
    "from models.unet import UNetWithCrossAttention\n",
    "\n",
    "config = ModelConfig({\n",
    "                    \"image_size\": 256,\n",
    "                    \"audio_ctx_dim\": 100})\n",
    "\n",
    "model = UNetWithCrossAttention(config)"
   ]
  },
  {
   "cell_type": "code",
   "execution_count": 2,
   "id": "d80730f5-ef6d-482c-ad70-f836c9761b47",
   "metadata": {},
   "outputs": [],
   "source": [
    "image = torch.randn(2, 3, 256, 256)  # Батч из 2 изображений\n",
    "\n",
    "audio_embed = torch.randn(2, 10, 100)\n",
    "t = torch.randint(0, 1000, (2,)).float()      # shape = [BS]"
   ]
  },
  {
   "cell_type": "code",
   "execution_count": 3,
   "id": "2faac337-921a-42c1-899f-0dfa152285be",
   "metadata": {},
   "outputs": [],
   "source": [
    "predicted_noise = model(image, t, audio_embed)"
   ]
  },
  {
   "cell_type": "code",
   "execution_count": 4,
   "id": "876959aa-958e-4b7a-ae18-d9b4777b716f",
   "metadata": {},
   "outputs": [
    {
     "data": {
      "text/plain": [
       "torch.Size([2, 3, 256, 256])"
      ]
     },
     "execution_count": 4,
     "metadata": {},
     "output_type": "execute_result"
    }
   ],
   "source": [
    "predicted_noise.shape"
   ]
  },
  {
   "cell_type": "code",
   "execution_count": null,
   "id": "c7067511-24b9-4d7e-a5d7-0fc244462204",
   "metadata": {},
   "outputs": [],
   "source": []
  }
 ],
 "metadata": {
  "kernelspec": {
   "display_name": "Python 3 (ipykernel)",
   "language": "python",
   "name": "python3"
  },
  "language_info": {
   "codemirror_mode": {
    "name": "ipython",
    "version": 3
   },
   "file_extension": ".py",
   "mimetype": "text/x-python",
   "name": "python",
   "nbconvert_exporter": "python",
   "pygments_lexer": "ipython3",
   "version": "3.10.2"
  }
 },
 "nbformat": 4,
 "nbformat_minor": 5
}
